{
 "cells": [
  {
   "cell_type": "code",
   "execution_count": 1,
   "metadata": {},
   "outputs": [],
   "source": [
    "import os\n",
    "import sys\n",
    "from pathlib import Path\n",
    "\n",
    "sys.path.append(str(Path().cwd().parent))"
   ]
  },
  {
   "cell_type": "code",
   "execution_count": 2,
   "metadata": {},
   "outputs": [
    {
     "name": "stderr",
     "output_type": "stream",
     "text": [
      "/home/user0/.local/lib/python3.10/site-packages/tqdm/auto.py:22: TqdmWarning: IProgress not found. Please update jupyter and ipywidgets. See https://ipywidgets.readthedocs.io/en/stable/user_install.html\n",
      "  from .autonotebook import tqdm as notebook_tqdm\n"
     ]
    }
   ],
   "source": [
    "import numpy as np\n",
    "from tqdm import tqdm\n",
    "from dataset.patch_dataset import BrainPatchesDataModule\n",
    "from models.UNetModule import UNet3\n",
    "from dataset.roi_extraction import slice_image, reconstruct_patches\n",
    "from utils import z_score_norm\n",
    "import SimpleITK as sitk\n",
    "import torch\n",
    "from models.EM import ExpectationMaximization\n",
    "import cv2\n",
    "import matplotlib.pyplot as plt\n",
    "import pandas as pd\n",
    "from brain_segmenter import BrainSegmenter"
   ]
  },
  {
   "attachments": {},
   "cell_type": "markdown",
   "metadata": {},
   "source": [
    "Select GPU index to run the prediction on and path for the checkpoint used to load the model"
   ]
  },
  {
   "cell_type": "code",
   "execution_count": 7,
   "metadata": {},
   "outputs": [
    {
     "name": "stdout",
     "output_type": "stream",
     "text": [
      "Model loaded\n"
     ]
    }
   ],
   "source": [
    "### CHANGE ONLY THIS 2 LINES ###\n",
    "DEVICE = 'cuda:2'\n",
    "CHKP_PATH = Path('/home/user0/misa_vlex/brain_segmentation/outputs/unet3p_augm_focal_64-32_05_synthseg/version_0/checkpoints/epoch=08-valid_dsc_macro_epoch=0.9233.ckpt')\n",
    "### DON'T CHANGE ANYTHING ELSE ###\n",
    "\n",
    "bsegm = BrainSegmenter(CHKP_PATH, DEVICE)\n",
    "\n",
    "d = bsegm.cfg['dataset']['patches']['denoiser']\n",
    "SEGM_2_CH_NAME = '_seg_resampled_merged' if d == 'synthseg_merged' else '_seg_resampled'"
   ]
  },
  {
   "attachments": {},
   "cell_type": "markdown",
   "metadata": {},
   "source": [
    "# Get Validation Results"
   ]
  },
  {
   "cell_type": "code",
   "execution_count": 8,
   "metadata": {},
   "outputs": [
    {
     "name": "stderr",
     "output_type": "stream",
     "text": [
      "  0%|          | 0/5 [00:00<?, ?it/s]/home/user0/misa_vlex/brain_segmentation/utils.py:7: RuntimeWarning: Mean of empty slice.\n",
      "  mean = img[img != 0].mean()\n",
      "/home/user0/.local/lib/python3.10/site-packages/numpy/core/_methods.py:192: RuntimeWarning: invalid value encountered in scalar divide\n",
      "  ret = ret.dtype.type(ret / rcount)\n",
      "/home/user0/.local/lib/python3.10/site-packages/numpy/core/_methods.py:269: RuntimeWarning: Degrees of freedom <= 0 for slice\n",
      "  ret = _var(a, axis=axis, dtype=dtype, out=out, ddof=ddof,\n",
      "/home/user0/.local/lib/python3.10/site-packages/numpy/core/_methods.py:226: RuntimeWarning: invalid value encountered in divide\n",
      "  arrmean = um.true_divide(arrmean, div, out=arrmean,\n",
      "/home/user0/.local/lib/python3.10/site-packages/numpy/core/_methods.py:261: RuntimeWarning: invalid value encountered in scalar divide\n",
      "  ret = ret.dtype.type(ret / rcount)\n",
      "/home/user0/misa_vlex/brain_segmentation/utils.py:15: RuntimeWarning: divide by zero encountered in divide\n",
      "  img = (img - mean) / std\n",
      "/home/user0/misa_vlex/brain_segmentation/utils.py:15: RuntimeWarning: invalid value encountered in divide\n",
      "  img = (img - mean) / std\n",
      "6it [01:40, 16.82s/it]                       \n"
     ]
    }
   ],
   "source": [
    "val_path = Path('/home/user0/misa_vlex/brain_segmentation/data/Validation_Set')\n",
    "val_path_res = val_path/f'unet_results/{bsegm.cfg[\"exp_name\"]}/'\n",
    "val_path_res.mkdir(exist_ok=True, parents=True)\n",
    "\n",
    "results = []\n",
    "for case in tqdm(val_path.iterdir(), total=5):\n",
    "    if case.is_dir() and 'unet_results' not in case.name:\n",
    "        \n",
    "        # read images\n",
    "        img = sitk.ReadImage(str(case/f'{case.name}.nii.gz'))\n",
    "        imgnp = sitk.GetArrayFromImage(img)\n",
    "        gt_seg = sitk.ReadImage(str(case/f'{case.name}_seg.nii.gz'))\n",
    "        gt_segnp = sitk.GetArrayFromImage(gt_seg)\n",
    "        \n",
    "        # load the prior segmentation if needed\n",
    "        prior_segm = None\n",
    "        if bsegm.cfg['model']['in_channels'] == 2:\n",
    "            proc_path = str(case/f'{case.name}.nii.gz').replace('data', 'proc_data')\n",
    "            proc_path = proc_path.replace('.nii.gz', f'{SEGM_2_CH_NAME}.nii.gz')\n",
    "            prior_segm = sitk.ReadImage(proc_path)\n",
    "            prior_segm = sitk.GetArrayFromImage(prior_segm)\n",
    "        \n",
    "        # make prediction\n",
    "        pred_seg, seg_res = bsegm.segment_and_compare(imgnp, gt_segnp,\n",
    "                                                      ssegm_image=prior_segm)\n",
    "        seg_res['case'] = case.name\n",
    "        seg_res['model'] = bsegm.cfg[\"exp_name\"]\n",
    "        results.append(seg_res)\n",
    "        \n",
    "        # save prediction\n",
    "        pred_seg_itk = sitk.GetImageFromArray(pred_seg)\n",
    "        pred_seg_itk.CopyInformation(gt_seg)\n",
    "        pred_seg_itk.SetOrigin(gt_seg.GetOrigin())\n",
    "        pred_seg_itk.SetDirection(gt_seg.GetDirection())\n",
    "        pred_seg_itk.SetSpacing(gt_seg.GetSpacing())\n",
    "        sitk.WriteImage(pred_seg_itk, str(val_path_res/f'{case.name}_seg.nii.gz'))\n",
    "        \n",
    "results_df = pd.DataFrame(results)\n",
    "results_df.to_csv(val_path_res/'results.csv', index=False)"
   ]
  },
  {
   "cell_type": "code",
   "execution_count": 9,
   "metadata": {},
   "outputs": [
    {
     "data": {
      "text/html": [
       "<div>\n",
       "<style scoped>\n",
       "    .dataframe tbody tr th:only-of-type {\n",
       "        vertical-align: middle;\n",
       "    }\n",
       "\n",
       "    .dataframe tbody tr th {\n",
       "        vertical-align: top;\n",
       "    }\n",
       "\n",
       "    .dataframe thead th {\n",
       "        text-align: right;\n",
       "    }\n",
       "</style>\n",
       "<table border=\"1\" class=\"dataframe\">\n",
       "  <thead>\n",
       "    <tr style=\"text-align: right;\">\n",
       "      <th></th>\n",
       "      <th>CSF</th>\n",
       "      <th>WM</th>\n",
       "      <th>GM</th>\n",
       "      <th>avg_dice</th>\n",
       "      <th>case</th>\n",
       "      <th>model</th>\n",
       "    </tr>\n",
       "  </thead>\n",
       "  <tbody>\n",
       "    <tr>\n",
       "      <th>0</th>\n",
       "      <td>0.885856</td>\n",
       "      <td>0.917282</td>\n",
       "      <td>0.900920</td>\n",
       "      <td>0.901353</td>\n",
       "      <td>IBSR_14</td>\n",
       "      <td>unet3p_augm_focal_64-32_05_synthseg</td>\n",
       "    </tr>\n",
       "    <tr>\n",
       "      <th>1</th>\n",
       "      <td>0.887855</td>\n",
       "      <td>0.892263</td>\n",
       "      <td>0.891577</td>\n",
       "      <td>0.890565</td>\n",
       "      <td>IBSR_12</td>\n",
       "      <td>unet3p_augm_focal_64-32_05_synthseg</td>\n",
       "    </tr>\n",
       "    <tr>\n",
       "      <th>2</th>\n",
       "      <td>0.834077</td>\n",
       "      <td>0.903032</td>\n",
       "      <td>0.920421</td>\n",
       "      <td>0.885843</td>\n",
       "      <td>IBSR_11</td>\n",
       "      <td>unet3p_augm_focal_64-32_05_synthseg</td>\n",
       "    </tr>\n",
       "    <tr>\n",
       "      <th>3</th>\n",
       "      <td>0.839818</td>\n",
       "      <td>0.910420</td>\n",
       "      <td>0.872146</td>\n",
       "      <td>0.874128</td>\n",
       "      <td>IBSR_13</td>\n",
       "      <td>unet3p_augm_focal_64-32_05_synthseg</td>\n",
       "    </tr>\n",
       "    <tr>\n",
       "      <th>4</th>\n",
       "      <td>0.890016</td>\n",
       "      <td>0.914865</td>\n",
       "      <td>0.874364</td>\n",
       "      <td>0.893082</td>\n",
       "      <td>IBSR_17</td>\n",
       "      <td>unet3p_augm_focal_64-32_05_synthseg</td>\n",
       "    </tr>\n",
       "  </tbody>\n",
       "</table>\n",
       "</div>"
      ],
      "text/plain": [
       "        CSF        WM        GM  avg_dice     case  \\\n",
       "0  0.885856  0.917282  0.900920  0.901353  IBSR_14   \n",
       "1  0.887855  0.892263  0.891577  0.890565  IBSR_12   \n",
       "2  0.834077  0.903032  0.920421  0.885843  IBSR_11   \n",
       "3  0.839818  0.910420  0.872146  0.874128  IBSR_13   \n",
       "4  0.890016  0.914865  0.874364  0.893082  IBSR_17   \n",
       "\n",
       "                                 model  \n",
       "0  unet3p_augm_focal_64-32_05_synthseg  \n",
       "1  unet3p_augm_focal_64-32_05_synthseg  \n",
       "2  unet3p_augm_focal_64-32_05_synthseg  \n",
       "3  unet3p_augm_focal_64-32_05_synthseg  \n",
       "4  unet3p_augm_focal_64-32_05_synthseg  "
      ]
     },
     "execution_count": 9,
     "metadata": {},
     "output_type": "execute_result"
    }
   ],
   "source": [
    "results_df"
   ]
  },
  {
   "cell_type": "code",
   "execution_count": 10,
   "metadata": {},
   "outputs": [
    {
     "name": "stdout",
     "output_type": "stream",
     "text": [
      "unet3p_augm_focal_64-32_05_synthseg\n",
      "Mean DSC: 0.8889940902331785 +- 0.010035363825905464\n"
     ]
    }
   ],
   "source": [
    "print(bsegm.cfg['exp_name'])\n",
    "print(f'Mean DSC: {results_df[\"avg_dice\"].mean()} +- {results_df[\"avg_dice\"].std()}')"
   ]
  },
  {
   "cell_type": "code",
   "execution_count": 16,
   "metadata": {},
   "outputs": [
    {
     "name": "stdout",
     "output_type": "stream",
     "text": [
      "unet3p_augm_focal_128-32_05_synthseg_merged\n",
      "Mean DSC: 0.9225410451458309 +- 0.010014093129348802\n"
     ]
    }
   ],
   "source": [
    "print(bsegm.cfg['exp_name'])\n",
    "print(f'Mean DSC: {results_df[\"avg_dice\"].mean()} +- {results_df[\"avg_dice\"].std()}')\n"
   ]
  },
  {
   "cell_type": "code",
   "execution_count": 11,
   "metadata": {},
   "outputs": [
    {
     "name": "stdout",
     "output_type": "stream",
     "text": [
      "unet3p_augm_focal_64-32_05_synthseg_merged\n",
      "Mean DSC: 0.92883864828338 +- 0.00833273425310916\n"
     ]
    }
   ],
   "source": [
    "print(bsegm.cfg['exp_name'])\n",
    "print(f'Mean DSC: {results_df[\"avg_dice\"].mean()} +- {results_df[\"avg_dice\"].std()}')"
   ]
  },
  {
   "attachments": {},
   "cell_type": "markdown",
   "metadata": {},
   "source": [
    "# Make Test Predictions"
   ]
  },
  {
   "attachments": {},
   "cell_type": "markdown",
   "metadata": {},
   "source": [
    "Be sure to have correct device and checkpoint path set up above"
   ]
  },
  {
   "cell_type": "code",
   "execution_count": 6,
   "metadata": {},
   "outputs": [
    {
     "name": "stderr",
     "output_type": "stream",
     "text": [
      "  0%|          | 0/3 [00:00<?, ?it/s]/home/user0/misa_vlex/brain_segmentation/utils.py:7: RuntimeWarning: Mean of empty slice.\n",
      "  mean = img[img != 0].mean()\n",
      "/home/user0/.local/lib/python3.10/site-packages/numpy/core/_methods.py:192: RuntimeWarning: invalid value encountered in scalar divide\n",
      "  ret = ret.dtype.type(ret / rcount)\n",
      "/home/user0/.local/lib/python3.10/site-packages/numpy/core/_methods.py:269: RuntimeWarning: Degrees of freedom <= 0 for slice\n",
      "  ret = _var(a, axis=axis, dtype=dtype, out=out, ddof=ddof,\n",
      "/home/user0/.local/lib/python3.10/site-packages/numpy/core/_methods.py:226: RuntimeWarning: invalid value encountered in divide\n",
      "  arrmean = um.true_divide(arrmean, div, out=arrmean,\n",
      "/home/user0/.local/lib/python3.10/site-packages/numpy/core/_methods.py:261: RuntimeWarning: invalid value encountered in scalar divide\n",
      "  ret = ret.dtype.type(ret / rcount)\n",
      "/home/user0/misa_vlex/brain_segmentation/utils.py:15: RuntimeWarning: divide by zero encountered in divide\n",
      "  img = (img - mean) / std\n",
      "/home/user0/misa_vlex/brain_segmentation/utils.py:15: RuntimeWarning: invalid value encountered in divide\n",
      "  img = (img - mean) / std\n",
      "4it [01:00, 15.11s/it]                       \n"
     ]
    }
   ],
   "source": [
    "test_path = Path('/home/user0/misa_vlex/brain_segmentation/data/Test_Set')\n",
    "test_path_res = test_path/f'unet_results/{bsegm.cfg[\"exp_name\"]}/'\n",
    "test_path_res.mkdir(exist_ok=True, parents=True)\n",
    "\n",
    "results = []\n",
    "for case in tqdm(test_path.iterdir(), total=3):\n",
    "    if case.is_dir() and 'unet_results' not in case.name:\n",
    "        \n",
    "        # read images\n",
    "        img = sitk.ReadImage(str(case/f'{case.name}.nii.gz'))\n",
    "        imgnp = sitk.GetArrayFromImage(img)\n",
    "        \n",
    "        # load the prior segmentation if needed\n",
    "        prior_segm = None\n",
    "        if bsegm.cfg['model']['in_channels'] == 2:\n",
    "            proc_path = str(case/f'{case.name}.nii.gz').replace('data', 'proc_data')\n",
    "            proc_path = proc_path.replace('.nii.gz', f'{SEGM_2_CH_NAME}.nii.gz')\n",
    "            prior_segm = sitk.ReadImage(proc_path)\n",
    "            prior_segm = sitk.GetArrayFromImage(prior_segm)\n",
    "        \n",
    "        \n",
    "        # make prediction\n",
    "        pred_seg = bsegm.segment(imgnp, progress=False,\n",
    "                                 ssegm_image=prior_segm)\n",
    "\n",
    "        # save prediction\n",
    "        pred_seg_itk = sitk.GetImageFromArray(pred_seg)\n",
    "        pred_seg_itk.CopyInformation(img)\n",
    "        pred_seg_itk.SetOrigin(img.GetOrigin())\n",
    "        pred_seg_itk.SetDirection(img.GetDirection())\n",
    "        pred_seg_itk.SetSpacing(img.GetSpacing())\n",
    "        sitk.WriteImage(pred_seg_itk, str(test_path_res/f'{case.name}_seg.nii.gz'))"
   ]
  }
 ],
 "metadata": {
  "kernelspec": {
   "display_name": "cad",
   "language": "python",
   "name": "python3"
  },
  "language_info": {
   "codemirror_mode": {
    "name": "ipython",
    "version": 3
   },
   "file_extension": ".py",
   "mimetype": "text/x-python",
   "name": "python",
   "nbconvert_exporter": "python",
   "pygments_lexer": "ipython3",
   "version": "3.10.8"
  },
  "orig_nbformat": 4,
  "vscode": {
   "interpreter": {
    "hash": "451d616364bd892585b67f7f7aa79a4620c49c83b87f0e7e3f47892707fcc398"
   }
  }
 },
 "nbformat": 4,
 "nbformat_minor": 2
}
