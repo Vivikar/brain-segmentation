{
 "cells": [
  {
   "cell_type": "code",
   "execution_count": 7,
   "metadata": {},
   "outputs": [],
   "source": [
    "import os\n",
    "import sys\n",
    "from pathlib import Path\n",
    "\n",
    "sys.path.append(str(Path().cwd().parent))"
   ]
  },
  {
   "cell_type": "code",
   "execution_count": 2,
   "metadata": {},
   "outputs": [
    {
     "name": "stderr",
     "output_type": "stream",
     "text": [
      "/home/user0/.local/lib/python3.10/site-packages/tqdm/auto.py:22: TqdmWarning: IProgress not found. Please update jupyter and ipywidgets. See https://ipywidgets.readthedocs.io/en/stable/user_install.html\n",
      "  from .autonotebook import tqdm as notebook_tqdm\n"
     ]
    }
   ],
   "source": [
    "import numpy as np\n",
    "from tqdm import tqdm\n",
    "from dataset.patch_dataset import BrainPatchesDataModule\n",
    "from models.UNetModule import UNet3\n",
    "from dataset.roi_extraction import slice_image, reconstruct_patches\n",
    "from utils import z_score_norm\n",
    "import SimpleITK as sitk\n",
    "import torch\n",
    "from models.EM import ExpectationMaximization\n",
    "import cv2\n",
    "import matplotlib.pyplot as plt\n",
    "import pandas as pd\n",
    "from brain_segmenter import BrainSegmenter"
   ]
  },
  {
   "attachments": {},
   "cell_type": "markdown",
   "metadata": {},
   "source": [
    "Select GPU index to run the prediction on and path for the checkpoint used to load the model"
   ]
  },
  {
   "cell_type": "code",
   "execution_count": 3,
   "metadata": {},
   "outputs": [
    {
     "name": "stdout",
     "output_type": "stream",
     "text": [
      "Model loaded\n"
     ]
    }
   ],
   "source": [
    "DEVICE = 'cuda:2'\n",
    "CHKP_PATH = Path('/home/user0/misa_vlex/brain_segmentation/outputs/unet3p_noaugm_bce_64_05/version_0/checkpoints/epoch=42-valid_dsc=0.0000.ckpt')\n",
    "\n",
    "bsegm = BrainSegmenter(CHKP_PATH, DEVICE)"
   ]
  },
  {
   "attachments": {},
   "cell_type": "markdown",
   "metadata": {},
   "source": [
    "# Get Validation Results"
   ]
  },
  {
   "cell_type": "code",
   "execution_count": 4,
   "metadata": {},
   "outputs": [
    {
     "name": "stderr",
     "output_type": "stream",
     "text": [
      "0it [00:00, ?it/s]/home/user0/misa_vlex/brain_segmentation/utils.py:7: RuntimeWarning: Mean of empty slice.\n",
      "  mean = img[img != 0].mean()\n",
      "/home/user0/.local/lib/python3.10/site-packages/numpy/core/_methods.py:192: RuntimeWarning: invalid value encountered in scalar divide\n",
      "  ret = ret.dtype.type(ret / rcount)\n",
      "/home/user0/.local/lib/python3.10/site-packages/numpy/core/_methods.py:269: RuntimeWarning: Degrees of freedom <= 0 for slice\n",
      "  ret = _var(a, axis=axis, dtype=dtype, out=out, ddof=ddof,\n",
      "/home/user0/.local/lib/python3.10/site-packages/numpy/core/_methods.py:226: RuntimeWarning: invalid value encountered in divide\n",
      "  arrmean = um.true_divide(arrmean, div, out=arrmean,\n",
      "/home/user0/.local/lib/python3.10/site-packages/numpy/core/_methods.py:261: RuntimeWarning: invalid value encountered in scalar divide\n",
      "  ret = ret.dtype.type(ret / rcount)\n",
      "/home/user0/misa_vlex/brain_segmentation/utils.py:15: RuntimeWarning: divide by zero encountered in divide\n",
      "  img = (img - mean) / std\n",
      "/home/user0/misa_vlex/brain_segmentation/utils.py:15: RuntimeWarning: invalid value encountered in divide\n",
      "  img = (img - mean) / std\n",
      "0it [00:52, ?it/s]\n"
     ]
    }
   ],
   "source": [
    "val_path = Path('/home/user0/misa_vlex/brain_segmentation/data/Validation_Set')\n",
    "val_path_res = val_path/f'unet_results/{bsegm.cfg[\"exp_name\"]}/'\n",
    "val_path_res.mkdir(exist_ok=True, parents=True)\n",
    "\n",
    "results = []\n",
    "for case in tqdm(val_path.iterdir(), total=5):\n",
    "    if case.is_dir() and 'unet_results' not in case.name:\n",
    "        \n",
    "        # read images\n",
    "        img = sitk.ReadImage(str(case/f'{case.name}.nii.gz'))\n",
    "        imgnp = sitk.GetArrayFromImage(img)\n",
    "        gt_seg = sitk.ReadImage(str(case/f'{case.name}_seg.nii.gz'))\n",
    "        gt_segnp = sitk.GetArrayFromImage(gt_seg)\n",
    "        \n",
    "        # make prediction\n",
    "        pred_seg, seg_res = bsegm.segment_and_compare(imgnp, gt_segnp)\n",
    "        seg_res['case'] = case.name\n",
    "        seg_res['model'] = bsegm.cfg[\"exp_name\"]\n",
    "        results.append(seg_res)\n",
    "        \n",
    "        # save prediction\n",
    "        pred_seg_itk = sitk.GetImageFromArray(pred_seg)\n",
    "        pred_seg_itk.CopyInformation(gt_seg)\n",
    "        pred_seg_itk.SetOrigin(gt_seg.GetOrigin())\n",
    "        pred_seg_itk.SetDirection(gt_seg.GetDirection())\n",
    "        pred_seg_itk.SetSpacing(gt_seg.GetSpacing())\n",
    "        sitk.WriteImage(pred_seg_itk, str(val_path_res/f'{case.name}_seg.nii.gz'))\n",
    "        \n",
    "results_df = pd.DataFrame(results)\n",
    "results_df.to_csv(val_path_res/'results.csv', index=False)"
   ]
  },
  {
   "attachments": {},
   "cell_type": "markdown",
   "metadata": {},
   "source": [
    "# Make Test Predictions"
   ]
  },
  {
   "attachments": {},
   "cell_type": "markdown",
   "metadata": {},
   "source": [
    "Be sure to have correct device and checkpoint path set up above"
   ]
  },
  {
   "cell_type": "code",
   "execution_count": 15,
   "metadata": {},
   "outputs": [
    {
     "name": "stderr",
     "output_type": "stream",
     "text": [
      "  0%|          | 0/3 [00:42<?, ?it/s]\n"
     ]
    }
   ],
   "source": [
    "test_path = Path('/home/user0/misa_vlex/brain_segmentation/data/Test_Set')\n",
    "test_path_res = test_path/f'unet_results/{bsegm.cfg[\"exp_name\"]}/'\n",
    "test_path_res.mkdir(exist_ok=True, parents=True)\n",
    "\n",
    "results = []\n",
    "for case in tqdm(test_path.iterdir(), total=3):\n",
    "    if case.is_dir() and 'unet_results' not in case.name:\n",
    "        \n",
    "        # read images\n",
    "        img = sitk.ReadImage(str(case/f'{case.name}.nii.gz'))\n",
    "        imgnp = sitk.GetArrayFromImage(img)\n",
    "        \n",
    "        # make prediction\n",
    "        pred_seg = bsegm.segment(imgnp, progress=False)\n",
    "\n",
    "        # save prediction\n",
    "        pred_seg_itk = sitk.GetImageFromArray(pred_seg)\n",
    "        pred_seg_itk.CopyInformation(img)\n",
    "        pred_seg_itk.SetOrigin(img.GetOrigin())\n",
    "        pred_seg_itk.SetDirection(img.GetDirection())\n",
    "        pred_seg_itk.SetSpacing(img.GetSpacing())\n",
    "        sitk.WriteImage(pred_seg_itk, str(test_path_res/f'{case.name}_seg.nii.gz'))"
   ]
  }
 ],
 "metadata": {
  "kernelspec": {
   "display_name": "cad",
   "language": "python",
   "name": "python3"
  },
  "language_info": {
   "codemirror_mode": {
    "name": "ipython",
    "version": 3
   },
   "file_extension": ".py",
   "mimetype": "text/x-python",
   "name": "python",
   "nbconvert_exporter": "python",
   "pygments_lexer": "ipython3",
   "version": "3.10.8"
  },
  "orig_nbformat": 4,
  "vscode": {
   "interpreter": {
    "hash": "451d616364bd892585b67f7f7aa79a4620c49c83b87f0e7e3f47892707fcc398"
   }
  }
 },
 "nbformat": 4,
 "nbformat_minor": 2
}
